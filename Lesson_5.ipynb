{
  "nbformat": 4,
  "nbformat_minor": 0,
  "metadata": {
    "colab": {
      "name": "Lesson 5.ipynb",
      "provenance": [],
      "authorship_tag": "ABX9TyPuIbKvhrhHxXxtndlOTrjs",
      "include_colab_link": true
    },
    "kernelspec": {
      "name": "python3",
      "display_name": "Python 3"
    }
  },
  "cells": [
    {
      "cell_type": "markdown",
      "metadata": {
        "id": "view-in-github",
        "colab_type": "text"
      },
      "source": [
        "<a href=\"https://colab.research.google.com/github/Abinaya-J/Udacity_SQL_for_Data_Analysis/blob/master/Lesson_5.ipynb\" target=\"_parent\"><img src=\"https://colab.research.google.com/assets/colab-badge.svg\" alt=\"Open In Colab\"/></a>"
      ]
    },
    {
      "cell_type": "code",
      "metadata": {
        "id": "yL-0QOLT5XFk",
        "colab_type": "code",
        "colab": {}
      },
      "source": [
        "#LEFT & RIGHT Quizzes\n",
        "#In the accounts table, there is a column holding the website for each company. The last three digits specify what type of web address they are using. \n",
        "#Pull these extensions and provide how many of each website type exist in the accounts table.\n",
        "SELECT RIGHT(website,3) AS website_extension,COUNT(*)\n",
        "FROM accounts\n",
        "GROUP BY 1;\n",
        "\n",
        "#Use the accounts table to pull the first letter of each company name to see the distribution of company names that begin with each letter (or number).\n",
        "SELECT LEFT(UPPER(name),1) AS name_start,COUNT(*)\n",
        "FROM accounts\n",
        "GROUP BY 1;\n",
        "\n",
        "#Use the accounts table and a CASE statement to create two groups: one group of company names that start with a number and a \n",
        "#second group of those company names that start with a letter. \n",
        "SELECT SUM(num) nums, SUM(letter) letters\n",
        "FROM (SELECT name, CASE WHEN LEFT(UPPER(name), 1) IN ('0','1','2','3','4','5','6','7','8','9') THEN 1 ELSE 0 END AS num, \n",
        "      CASE WHEN LEFT(UPPER(name), 1) IN ('0','1','2','3','4','5','6','7','8','9') THEN 0 ELSE 1 END AS letter\n",
        "      FROM accounts);\n",
        "\n",
        "#Consider vowels as a, e, i, o, and u. What proportion of company names start with a vowel?\n",
        "SELECT SUM(vowels) vowels, SUM(other) other\n",
        "FROM (SELECT name, CASE WHEN LEFT(UPPER(name), 1) IN ('A','E','I','O','U') THEN 1 ELSE 0 END AS vowels, \n",
        "      CASE WHEN LEFT(UPPER(name), 1) IN ('A','E','I','O','U') THEN 0 ELSE 1 END AS other\n",
        "      FROM accounts)\n",
        "\n",
        " ## 80/351 companies have names that start with vowels."
      ],
      "execution_count": null,
      "outputs": []
    },
    {
      "cell_type": "code",
      "metadata": {
        "id": "j7Xr3Eop4m2_",
        "colab_type": "code",
        "colab": {}
      },
      "source": [
        "#Quizzes POSITION & STRPOS\n",
        "#Use the accounts table to create first and last name columns that hold the first and last names for the primary_poc.\n",
        "SELECT LEFT(primary_poc, STRPOS(primary_poc, ' ') -1 ) first_name, RIGHT(primary_poc, LENGTH(primary_poc) - STRPOS(primary_poc, ' ')) last_name\n",
        "FROM accounts;\n",
        "\n",
        "#Now see if you can do the same thing for every rep name in the sales_reps table. Again provide first and last name columns.\n",
        "SELECT LEFT(name, STRPOS(name, ' ') -1 ) first_name, RIGHT(name, LENGTH(name) - STRPOS(name, ' ')) last_name\n",
        "FROM sales_reps;"
      ],
      "execution_count": null,
      "outputs": []
    }
  ]
}