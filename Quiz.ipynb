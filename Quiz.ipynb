{
  "nbformat": 4,
  "nbformat_minor": 0,
  "metadata": {
    "colab": {
      "name": "Quiz.ipynb",
      "provenance": [],
      "authorship_tag": "ABX9TyPiuRjpLUmEHEqyRiJLJ36+",
      "include_colab_link": true
    },
    "kernelspec": {
      "name": "python3",
      "display_name": "Python 3"
    }
  },
  "cells": [
    {
      "cell_type": "markdown",
      "metadata": {
        "id": "view-in-github",
        "colab_type": "text"
      },
      "source": [
        "<a href=\"https://colab.research.google.com/github/Abinaya-J/Udacity_SQL_for_Data_Analysis/blob/master/Quiz.ipynb\" target=\"_parent\"><img src=\"https://colab.research.google.com/assets/colab-badge.svg\" alt=\"Open In Colab\"/></a>"
      ]
    },
    {
      "cell_type": "code",
      "metadata": {
        "id": "eFAyBee6nJ4i",
        "colab_type": "code",
        "colab": {}
      },
      "source": [
        "#Questions using AND and BETWEEN operators\n",
        "#Write a query that returns all the orders where the standard_qty is over 1000, the poster_qty is 0, and the gloss_qty is 0.\n",
        "SELECT*\n",
        "FROM orders\n",
        "WHERE standard_qty >1000 AND poster_qty=0 AND gloss_qty=0;\n",
        "\n",
        "#Using the accounts table, find all the companies whose names do not start with 'C' and end with 's'.\n",
        "SELECT*\n",
        "FROM accounts\n",
        "WHERE name NOT LIKE 'C%' AND name LIKE '%S';\n",
        "\n",
        "#Write a query that displays the order date and gloss_qty data for all orders where gloss_qty is between 24 and 29. \n",
        "SELECT occurred_at,gloss_qty\n",
        "FROM orders\n",
        "WHERE gloss_qty BETWEEN 24 AND 29;\n",
        "\n",
        "#Use the web_events table to find all information regarding individuals who were contacted via the organic or adwords channels, \n",
        "#and started their account at any point in 2016, sorted from newest to oldest.\n",
        "SELECT *\n",
        "FROM web_events\n",
        "WHERE channel IN ('organic', 'adwords') AND occurred_at BETWEEN '2016-01-01' AND '2017-01-01'\n",
        "ORDER BY occurred_at DESC;"
      ],
      "execution_count": null,
      "outputs": []
    }
  ]
}