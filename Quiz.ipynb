{
  "nbformat": 4,
  "nbformat_minor": 0,
  "metadata": {
    "colab": {
      "name": "Quiz.ipynb",
      "provenance": [],
      "authorship_tag": "ABX9TyPFokbE0kpxycKT40yvLnpO",
      "include_colab_link": true
    },
    "kernelspec": {
      "name": "python3",
      "display_name": "Python 3"
    }
  },
  "cells": [
    {
      "cell_type": "markdown",
      "metadata": {
        "id": "view-in-github",
        "colab_type": "text"
      },
      "source": [
        "<a href=\"https://colab.research.google.com/github/Abinaya-J/Udacity_SQL_for_Data_Analysis/blob/master/Quiz.ipynb\" target=\"_parent\"><img src=\"https://colab.research.google.com/assets/colab-badge.svg\" alt=\"Open In Colab\"/></a>"
      ]
    },
    {
      "cell_type": "code",
      "metadata": {
        "id": "kqjhb4uKFvFs",
        "colab_type": "code",
        "colab": {}
      },
      "source": [
        "#Using ALIAS\n",
        "#Provide a table for all web_events associated with account name of Walmart. There should be three columns. \n",
        "#Be sure to include the primary_poc, time of the event, and the channel for each event. \n",
        "SELECT a.primary_poc,w.occurred_at,w.channel\n",
        "FROM accounts a\n",
        "JOIN web_events w\n",
        "ON w.account_id = a.id\n",
        "WHERE a.name = 'Walmart';\n",
        "\n",
        "#Provide a table that provides the region for each sales_rep along with their associated accounts. Your final table should include three columns: the region name, \n",
        "#the sales rep name, and the account name. Sort the accounts alphabetically (A-Z) according to account name.\n",
        "SELECT r.name region, s.name rep, a.name account\n",
        "FROM sales_reps s\n",
        "JOIN region r\n",
        "ON s.region_id = r.id\n",
        "JOIN accounts a\n",
        "ON a.sales_rep_id = s.id\n",
        "ORDER BY a.name;\n",
        "\n",
        "#Provide the name for each region for every order, as well as the account name and the unit price they paid (total_amt_usd/total) for the order. \n",
        "#Your final table should have 3 columns: region name, account name, and unit price. A few accounts have 0 for total, \n",
        "#so I divided by (total + 0.01) to assure not dividing by zero.\n",
        "SELECT r.name region, a.name account, o.total_amt_usd/(o.total + 0.01) unit_price\n",
        "FROM region r\n",
        "JOIN sales_reps s\n",
        "ON s.region_id = r.id\n",
        "JOIN accounts a\n",
        "ON a.sales_rep_id = s.id\n",
        "JOIN orders o\n",
        "ON o.account_id = a.id;"
      ],
      "execution_count": null,
      "outputs": []
    }
  ]
}