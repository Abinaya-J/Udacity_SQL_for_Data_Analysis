{
  "nbformat": 4,
  "nbformat_minor": 0,
  "metadata": {
    "colab": {
      "name": "Quiz.ipynb",
      "provenance": [],
      "authorship_tag": "ABX9TyNW6/DLkt8m9tDh3o4SQOUG",
      "include_colab_link": true
    },
    "kernelspec": {
      "name": "python3",
      "display_name": "Python 3"
    }
  },
  "cells": [
    {
      "cell_type": "markdown",
      "metadata": {
        "id": "view-in-github",
        "colab_type": "text"
      },
      "source": [
        "<a href=\"https://colab.research.google.com/github/Abinaya-J/Udacity_SQL_for_Data_Analysis/blob/master/Quiz.ipynb\" target=\"_parent\"><img src=\"https://colab.research.google.com/assets/colab-badge.svg\" alt=\"Open In Colab\"/></a>"
      ]
    },
    {
      "cell_type": "code",
      "metadata": {
        "id": "8xlhbrjv8LDH",
        "colab_type": "code",
        "colab": {}
      },
      "source": [
        "#SELECT and FROM in Every SQL Query\n",
        "#Every query will have at least a SELECT and FROM statement. The SELECT statement is where you put the columns for which you would like to show the data. The FROM statement is where you put the tables from which you would like to pull data.\n",
        "\n",
        "#Your Turn\n",
        "#Try writing your own query to select only the id, account_id, and occurred_at columns for all orders in the orders table.\n",
        "\n",
        "SELECT id,account_id,occurred_at\n",
        "FROM orders;\n",
        "\n",
        "#Try using LIMIT yourself below by writing a query that displays all the data in the occurred_at, account_id,\n",
        "#and channel columns of the web_events table, and limits the output to only the first 15 rows.\n",
        "\n",
        "SELECT occurred_at,account_id,channel\n",
        "FROM web_events\n",
        "LIMIT 15;"
      ],
      "execution_count": null,
      "outputs": []
    },
    {
      "cell_type": "code",
      "metadata": {
        "id": "ua_mSlGsDw2k",
        "colab_type": "code",
        "colab": {}
      },
      "source": [
        "#Questions: GROUP BY Part II\n",
        "#For each account, determine the average amount of each type of paper they purchased across their orders. \n",
        "#Your result should have four columns - one for the account name and one for the average quantity purchased for each of the paper types for each account.\n",
        "SELECT a.name, AVG(o.standard_qty) avg_standard, AVG(o.gloss_qty) avg_gloss, AVG(o.poster_qty) avg_poster\n",
        "FROM accounts a\n",
        "JOIN orders o\n",
        "ON a.id = o.account_id\n",
        "GROUP BY a.name;\n",
        "\n",
        "#For each account, determine the average amount spent per order on each paper type. \n",
        "#Your result should have four columns - one for the account name and one for the average amount spent on each paper type.\n",
        "SELECT a.name, AVG(o.standard_amt_usd) avg_standard_usd, AVG(o.gloss_amt_usd) avg_gloss_usd, AVG(o.poster_amt_usd) avg_poster_usd\n",
        "FROM accounts a\n",
        "JOIN orders o\n",
        "ON a.id = o.account_id\n",
        "GROUP BY a.name;\n",
        "\n",
        "#Determine the number of times a particular channel was used in the web_events table for each sales rep. \n",
        "#Your final table should have three columns - the name of the sales rep, the channel, and the number of occurrences. \n",
        "#Order your table with the highest number of occurrences first.\n",
        "SELECT s.name, w.channel, COUNT(*) num_channel_used\n",
        "FROM accounts a\n",
        "JOIN web_events w\n",
        "ON a.id = w.account_id\n",
        "JOIN sales_reps s\n",
        "ON s.id = a.sales_rep_id\n",
        "GROUP BY s.name, w.channel\n",
        "ORDER BY num_events DESC;\n",
        "\n",
        "#Determine the number of times a particular channel was used in the web_events table for each region. \n",
        "#Your final table should have three columns - the region name, the channel, and the number of occurrences. \n",
        "#Order your table with the highest number of occurrences first.\n",
        "SELECT r.name, w.channel, COUNT(*) num_channel_used\n",
        "FROM accounts a\n",
        "JOIN web_events w\n",
        "ON a.id = w.account_id\n",
        "JOIN sales_reps s\n",
        "ON s.id = a.sales_rep_id\n",
        "JOIN region r\n",
        "ON r.id = s.region_id\n",
        "GROUP BY r.name, w.channel\n",
        "ORDER BY num_events DESC;"
      ],
      "execution_count": null,
      "outputs": []
    }
  ]
}