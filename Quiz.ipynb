{
  "nbformat": 4,
  "nbformat_minor": 0,
  "metadata": {
    "colab": {
      "name": "Quiz.ipynb",
      "provenance": [],
      "authorship_tag": "ABX9TyOYEBAOCtSEvL2XO1wwx28r",
      "include_colab_link": true
    },
    "kernelspec": {
      "name": "python3",
      "display_name": "Python 3"
    }
  },
  "cells": [
    {
      "cell_type": "markdown",
      "metadata": {
        "id": "view-in-github",
        "colab_type": "text"
      },
      "source": [
        "<a href=\"https://colab.research.google.com/github/Abinaya-J/Udacity_SQL_for_Data_Analysis/blob/master/Quiz.ipynb\" target=\"_parent\"><img src=\"https://colab.research.google.com/assets/colab-badge.svg\" alt=\"Open In Colab\"/></a>"
      ]
    },
    {
      "cell_type": "code",
      "metadata": {
        "id": "Ii6iFSg2oJVQ",
        "colab_type": "code",
        "colab": {}
      },
      "source": [
        "#Practice Question Using WHERE with Non-Numeric Data\n",
        "#Filter the accounts table to include the company name, website, and the primary point of contact (primary_poc) \n",
        "#just for the Exxon Mobil company in the accounts table.\n",
        "SELECT name,website,primary_poc\n",
        "FROM accounts\n",
        "WHERE name = 'Exxon Mobil';\n",
        "\n",
        "#Questions using Arithmetic Operations\n",
        "\n",
        "#Create a column that divides the standard_amt_usd by the standard_qty to find the unit price for standard paper for each order.\n",
        "#Limit the results to the first 10 orders, and include the id and account_id fields.\n",
        "SELECT id,account_id,(standard_amt_usd/standard_qty) AS standard_unit_price\n",
        "FROM orders\n",
        "LIMIT 10;\n",
        "\n",
        "#Write a query that finds the percentage of revenue that comes from poster paper for each order. You will need to use only the columns that end with _usd. (Try to do this without using the total column.) \n",
        "#Display the id and account_id fields also.\n",
        "SELECT id,account_id,(poster_amt_usd/(standard_amt_usd+gloss_amt_usd+poster_amt_usd))*100 AS poster_percentage_rev\n",
        "FROM orders\n",
        "LIMIT 10;"
      ],
      "execution_count": null,
      "outputs": []
    }
  ]
}