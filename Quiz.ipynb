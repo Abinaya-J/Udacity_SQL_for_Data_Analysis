{
  "nbformat": 4,
  "nbformat_minor": 0,
  "metadata": {
    "colab": {
      "name": "Quiz.ipynb",
      "provenance": []
    },
    "kernelspec": {
      "name": "python3",
      "display_name": "Python 3"
    }
  },
  "cells": [
    {
      "cell_type": "code",
      "metadata": {
        "id": "5trPYhrIPIcu",
        "colab_type": "code",
        "colab": {}
      },
      "source": [
        "#SELECT and FROM in Every SQL Query\n",
        "#Every query will have at least a SELECT and FROM statement. The SELECT statement is where you put the columns for which you would like to show the data. The FROM statement is where you put the tables from which you would like to pull data.\n",
        "\n",
        "#Your Turn\n",
        "#Try writing your own query to select only the id, account_id, and occurred_at columns for all orders in the orders table.\n",
        "\n",
        "SELECT id,account_id,occurred_at\n",
        "FROM orders;\n",
        "\n",
        "#Try using LIMIT yourself below by writing a query that displays all the data in the occurred_at, account_id,\n",
        "#and channel columns of the web_events table, and limits the output to only the first 15 rows.\n",
        "\n",
        "SELECT occurred_at,account_id,channel\n",
        "FROM web_events\n",
        "LIMIT 15;"
      ],
      "execution_count": null,
      "outputs": []
    }
  ]
}