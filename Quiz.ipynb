{
  "nbformat": 4,
  "nbformat_minor": 0,
  "metadata": {
    "colab": {
      "name": "Quiz.ipynb",
      "provenance": []
    },
    "kernelspec": {
      "name": "python3",
      "display_name": "Python 3"
    }
  },
  "cells": [
    {
      "cell_type": "code",
      "metadata": {
        "id": "nB3EywxXf98E",
        "colab_type": "code",
        "colab": {}
      },
      "source": [
        "#Write a query that:\n",
        "\n",
        "#Pulls the first 5 rows and all columns from the orders table that have a dollar amount of gloss_amt_usd greater than or equal to 1000.\n",
        "SELECT *\n",
        "FROM orders\n",
        "WHERE gloss_amt_usd>=1000\n",
        "LIMIT 5;\n",
        "\n",
        "#Pulls the first 10 rows and all columns from the orders table that have a total_amt_usd less than 500.\n",
        "SELECT *\n",
        "FROM orders\n",
        "WHERE total_amt_usd<=500\n",
        "LIMIT 10;"
      ],
      "execution_count": null,
      "outputs": []
    }
  ]
}