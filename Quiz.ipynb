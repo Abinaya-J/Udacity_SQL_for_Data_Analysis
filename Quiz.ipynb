{
  "nbformat": 4,
  "nbformat_minor": 0,
  "metadata": {
    "colab": {
      "name": "Quiz.ipynb",
      "provenance": [],
      "authorship_tag": "ABX9TyOdM7y4fAzlvfBS3680fYHL",
      "include_colab_link": true
    },
    "kernelspec": {
      "name": "python3",
      "display_name": "Python 3"
    }
  },
  "cells": [
    {
      "cell_type": "markdown",
      "metadata": {
        "id": "view-in-github",
        "colab_type": "text"
      },
      "source": [
        "<a href=\"https://colab.research.google.com/github/Abinaya-J/Udacity_SQL_for_Data_Analysis/blob/master/Quiz.ipynb\" target=\"_parent\"><img src=\"https://colab.research.google.com/assets/colab-badge.svg\" alt=\"Open In Colab\"/></a>"
      ]
    },
    {
      "cell_type": "code",
      "metadata": {
        "id": "m7Un8VUih7F_",
        "colab_type": "code",
        "colab": {}
      },
      "source": [
        "#Provide the name for each region for every order, as well as the account name and the unit price they paid (total_amt_usd/total) for the order. \n",
        "#However, you should only provide the results if the standard order quantity exceeds 100. \n",
        "#Your final table should have 3 columns: region name, account name, and unit price. \n",
        "#In order to avoid a division by zero error, adding .01 to the denominator here is helpful total_amt_usd/(total+0.01).\n",
        "SELECT r.name region, a.name account, o.total_amt_usd/(o.total + 0.01) unit_price\n",
        "FROM region r\n",
        "JOIN sales_reps s\n",
        "ON s.region_id = r.id\n",
        "JOIN accounts a\n",
        "ON a.sales_rep_id = s.id\n",
        "JOIN orders o\n",
        "ON o.account_id = a.id\n",
        "WHERE o.standard_qty > 100;\n",
        "\n",
        "#Provide the name for each region for every order, as well as the account name and the unit price they paid (total_amt_usd/total) for the order. \n",
        "#However, you should only provide the results if the standard order quantity exceeds 100 and the poster order quantity exceeds 50. \n",
        "#Your final table should have 3 columns: region name, account name, and unit price. Sort for the smallest unit price first.\n",
        "# In order to avoid a division by zero error, adding .01 to the denominator here is helpful (total_amt_usd/(total+0.01).\n",
        "SELECT r.name region, a.name account, o.total_amt_usd/(o.total + 0.01) unit_price\n",
        "FROM region r\n",
        "JOIN sales_reps s\n",
        "ON s.region_id = r.id\n",
        "JOIN accounts a\n",
        "ON a.sales_rep_id = s.id\n",
        "JOIN orders o\n",
        "ON o.account_id = a.id\n",
        "WHERE o.standard_qty > 100 AND o.poster_qty > 50\n",
        "ORDER BY unit_price;\n",
        "\n",
        "#Provide the name for each region for every order, as well as the account name and the unit price they paid (total_amt_usd/total) for the order. \n",
        "#However, you should only provide the results if the standard order quantity exceeds 100 and the poster order quantity exceeds 50. \n",
        "#Your final table should have 3 columns: region name, account name, and unit price. Sort for the largest unit price first. \n",
        "#In order to avoid a division by zero error, adding .01 to the denominator here is helpful (total_amt_usd/(total+0.01).\n",
        "SELECT r.name region, a.name account, o.total_amt_usd/(o.total + 0.01) unit_price\n",
        "FROM region r\n",
        "JOIN sales_reps s\n",
        "ON s.region_id = r.id\n",
        "JOIN accounts a\n",
        "ON a.sales_rep_id = s.id\n",
        "JOIN orders o\n",
        "ON o.account_id = a.id\n",
        "WHERE o.standard_qty > 100 AND o.poster_qty > 50\n",
        "ORDER BY unit_price DESC;"
      ],
      "execution_count": null,
      "outputs": []
    }
  ]
}