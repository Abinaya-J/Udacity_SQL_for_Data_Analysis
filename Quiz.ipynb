{
  "nbformat": 4,
  "nbformat_minor": 0,
  "metadata": {
    "colab": {
      "name": "Quiz.ipynb",
      "provenance": [],
      "authorship_tag": "ABX9TyO/eOtmuUGO7aGXxQGgW4fH",
      "include_colab_link": true
    },
    "kernelspec": {
      "name": "python3",
      "display_name": "Python 3"
    }
  },
  "cells": [
    {
      "cell_type": "markdown",
      "metadata": {
        "id": "view-in-github",
        "colab_type": "text"
      },
      "source": [
        "<a href=\"https://colab.research.google.com/github/Abinaya-J/Udacity_SQL_for_Data_Analysis/blob/master/Quiz.ipynb\" target=\"_parent\"><img src=\"https://colab.research.google.com/assets/colab-badge.svg\" alt=\"Open In Colab\"/></a>"
      ]
    },
    {
      "cell_type": "code",
      "metadata": {
        "id": "4ySXjGvqDc0a",
        "colab_type": "code",
        "colab": {}
      },
      "source": [
        "#Questions: GROUP BY\n",
        "#Which account (by name) placed the earliest order? Your solution should have the account name and the date of the order\n",
        "SELECT a.name, o.occurred_at\n",
        "FROM accounts a\n",
        "JOIN orders o\n",
        "ON a.id = o.account_id\n",
        "ORDER BY occurred_at\n",
        "LIMIT 1;\n",
        "\n",
        "#Find the total sales in usd for each account. You should include two columns - the total sales for each company's orders in usd and the company name.\n",
        "SELECT SUM(o.total_amt_usd) AS total_paid,a.name\n",
        "FROM orders o\n",
        "JOIN accounts a\n",
        "ON a.id = o.account_id\n",
        "GROUP BY a.name;\n",
        "\n",
        "#Via what channel did the most recent (latest) web_event occur, which account was associated with this web_event? \n",
        "#Your query should return only three values - the date, channel, and account name.\n",
        "SELECT w.occurred_at, w.channel, a.name\n",
        "FROM web_events w\n",
        "JOIN accounts a\n",
        "ON w.account_id = a.id \n",
        "ORDER BY w.occurred_at DESC\n",
        "LIMIT 1;\n"
      ],
      "execution_count": null,
      "outputs": []
    }
  ]
}