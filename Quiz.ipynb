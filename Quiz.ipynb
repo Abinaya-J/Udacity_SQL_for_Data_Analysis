{
  "nbformat": 4,
  "nbformat_minor": 0,
  "metadata": {
    "colab": {
      "name": "Quiz.ipynb",
      "provenance": []
    },
    "kernelspec": {
      "name": "python3",
      "display_name": "Python 3"
    }
  },
  "cells": [
    {
      "cell_type": "code",
      "metadata": {
        "id": "h_ff2qr0fyRm",
        "colab_type": "code",
        "colab": {}
      },
      "source": [
        "#Write a query that displays the order ID, account ID, and total dollar amount for all the orders, sorted first by the account ID (in ascending order), \n",
        "#and then by the total dollar amount (in descending order).\n",
        "SELECT id,account_id,total_amt_usd\n",
        "FROM orders\n",
        "ORDER BY account_id,total_amt_usd DESC\n",
        "\n",
        "#Now write a query that again displays order ID, account ID, and total dollar amount for each order, but this time sorted first by total dollar amount\n",
        "#(in descending order), and then by account ID (in ascending order).\n",
        "SELECT id, account_id, total_amt_usd\n",
        "FROM orders\n",
        "ORDER BY total_amt_usd DESC, account_id;"
      ],
      "execution_count": null,
      "outputs": []
    }
  ]
}