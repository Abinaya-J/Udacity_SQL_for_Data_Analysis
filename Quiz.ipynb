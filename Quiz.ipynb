{
  "nbformat": 4,
  "nbformat_minor": 0,
  "metadata": {
    "colab": {
      "name": "Quiz.ipynb",
      "provenance": [],
      "authorship_tag": "ABX9TyM9OJv3W6KFGRerkfjwPKBz",
      "include_colab_link": true
    },
    "kernelspec": {
      "name": "python3",
      "display_name": "Python 3"
    }
  },
  "cells": [
    {
      "cell_type": "markdown",
      "metadata": {
        "id": "view-in-github",
        "colab_type": "text"
      },
      "source": [
        "<a href=\"https://colab.research.google.com/github/Abinaya-J/Udacity_SQL_for_Data_Analysis/blob/master/Quiz.ipynb\" target=\"_parent\"><img src=\"https://colab.research.google.com/assets/colab-badge.svg\" alt=\"Open In Colab\"/></a>"
      ]
    },
    {
      "cell_type": "code",
      "metadata": {
        "id": "d__8-0adFTOV",
        "colab_type": "code",
        "colab": {}
      },
      "source": [
        "#Questions using the OR operator\n",
        "#Find list of orders ids where either gloss_qty or poster_qty is greater than 4000. Only include the id field in the resulting table.\n",
        "SELECT id\n",
        "FROM orders\n",
        "WHERE gloss_qty >4000 OR poster_qty >4000; \n",
        "\n",
        "#Write a query that returns a list of orders where the standard_qty is zero and either the gloss_qty or poster_qty is over 1000.\n",
        "SELECT *\n",
        "FROM orders\n",
        "WHERE standard_qty =0 AND poster_qty >1000 OR gloss_qty>1000;\n",
        "\n",
        "#Find all the company names that start with a 'C' or 'W', and the primary contact contains 'ana' or 'Ana', but it doesn't contain 'eana'\n",
        "SELECT *\n",
        "FROM accounts\n",
        "WHERE (name LIKE 'C%' OR name LIKE 'W%') AND ((primary_poc LIKE '%ana%' OR primary_poc LIKE '%Ana%') AND primary_poc NOT LIKE '%eana%');"
      ],
      "execution_count": null,
      "outputs": []
    }
  ]
}