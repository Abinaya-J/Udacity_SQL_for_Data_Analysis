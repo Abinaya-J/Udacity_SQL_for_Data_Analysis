{
  "nbformat": 4,
  "nbformat_minor": 0,
  "metadata": {
    "colab": {
      "name": "Quiz.ipynb",
      "provenance": [],
      "authorship_tag": "ABX9TyPfUOfxY7ke6ERZgWuuiymX",
      "include_colab_link": true
    },
    "kernelspec": {
      "name": "python3",
      "display_name": "Python 3"
    }
  },
  "cells": [
    {
      "cell_type": "markdown",
      "metadata": {
        "id": "view-in-github",
        "colab_type": "text"
      },
      "source": [
        "<a href=\"https://colab.research.google.com/github/Abinaya-J/Udacity_SQL_for_Data_Analysis/blob/master/Quiz.ipynb\" target=\"_parent\"><img src=\"https://colab.research.google.com/assets/colab-badge.svg\" alt=\"Open In Colab\"/></a>"
      ]
    },
    {
      "cell_type": "code",
      "metadata": {
        "id": "FX0Zi2OVsB7c",
        "colab_type": "code",
        "colab": {}
      },
      "source": [
        "#Questions using IN operator\n",
        "#Use the accounts table to find the account name, primary_poc, and sales_rep_id for Walmart, Target, and Nordstrom.\n",
        "SELECT name,primary_poc,sales_rep_id\n",
        "FROM accounts\n",
        "WHERE name IN ('Walmart','Target','Nordstrom');\n",
        "\n",
        "#Use the web_events table to find all information regarding individuals who were contacted via the channel of organic or adwords.\n",
        "SELECT *\n",
        "FROM web_events\n",
        "WHERE channel IN ('organic','adwords');"
      ],
      "execution_count": null,
      "outputs": []
    }
  ]
}