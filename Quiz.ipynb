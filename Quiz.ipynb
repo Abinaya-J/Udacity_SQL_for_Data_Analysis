{
  "nbformat": 4,
  "nbformat_minor": 0,
  "metadata": {
    "colab": {
      "name": "Quiz.ipynb",
      "provenance": [],
      "authorship_tag": "ABX9TyOUDXl3EkZyXybf1Txksvqg",
      "include_colab_link": true
    },
    "kernelspec": {
      "name": "python3",
      "display_name": "Python 3"
    }
  },
  "cells": [
    {
      "cell_type": "markdown",
      "metadata": {
        "id": "view-in-github",
        "colab_type": "text"
      },
      "source": [
        "<a href=\"https://colab.research.google.com/github/Abinaya-J/Udacity_SQL_for_Data_Analysis/blob/master/Quiz.ipynb\" target=\"_parent\"><img src=\"https://colab.research.google.com/assets/colab-badge.svg\" alt=\"Open In Colab\"/></a>"
      ]
    },
    {
      "cell_type": "code",
      "metadata": {
        "id": "ht-jROM_7bvY",
        "colab_type": "code",
        "colab": {}
      },
      "source": [
        "#What are the different channels used by account id 1001? Your final table should have only 2 columns: account name and the different channels. \n",
        "#You can try SELECT DISTINCT to narrow down the results to only the unique values.\n",
        "SELECT DISTINCT a.name, w.channel\n",
        "FROM accounts a\n",
        "JOIN web_events w\n",
        "ON a.id = w.account_id\n",
        "WHERE a.id = '1001';\n",
        "\n",
        "#Find all the orders that occurred in 2015. Your final table should have 4 columns: occurred_at, account name, order total, and order total_amt_usd\n",
        "SELECT o.occurred_at, a.name, o.total, o.total_amt_usd\n",
        "FROM accounts a\n",
        "JOIN orders o\n",
        "ON o.account_id = a.id\n",
        "WHERE o.occurred_at BETWEEN '01-01-2015' AND '01-01-2016';\n"
      ],
      "execution_count": null,
      "outputs": []
    }
  ]
}