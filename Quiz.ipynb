{
  "nbformat": 4,
  "nbformat_minor": 0,
  "metadata": {
    "colab": {
      "name": "Quiz.ipynb",
      "provenance": [],
      "authorship_tag": "ABX9TyP+a53DIRiMizilF9p+VgD4",
      "include_colab_link": true
    },
    "kernelspec": {
      "name": "python3",
      "display_name": "Python 3"
    }
  },
  "cells": [
    {
      "cell_type": "markdown",
      "metadata": {
        "id": "view-in-github",
        "colab_type": "text"
      },
      "source": [
        "<a href=\"https://colab.research.google.com/github/Abinaya-J/Udacity_SQL_for_Data_Analysis/blob/master/Quiz.ipynb\" target=\"_parent\"><img src=\"https://colab.research.google.com/assets/colab-badge.svg\" alt=\"Open In Colab\"/></a>"
      ]
    },
    {
      "cell_type": "code",
      "metadata": {
        "id": "7At_JSqJrvc8",
        "colab_type": "code",
        "colab": {}
      },
      "source": [
        "#Questions using the LIKE operator\n",
        "#Use the accounts table to find\n",
        "#All the companies whose names start with 'C'.\n",
        "SELECT *\n",
        "FROM accounts\n",
        "WHERE name LIKE 'C%'; \n",
        "\n",
        "#All companies whose names contain the string 'one' somewhere in the name.\n",
        "SELECT *\n",
        "FROM accounts\n",
        "WHERE name LIKE '%one%'; "
      ],
      "execution_count": null,
      "outputs": []
    }
  ]
}