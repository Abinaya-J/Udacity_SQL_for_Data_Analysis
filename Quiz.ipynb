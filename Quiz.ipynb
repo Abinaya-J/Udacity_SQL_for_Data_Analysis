{
  "nbformat": 4,
  "nbformat_minor": 0,
  "metadata": {
    "colab": {
      "name": "Quiz.ipynb",
      "provenance": [],
      "authorship_tag": "ABX9TyNYiVQKrP8N2rV+VvMJj9JE",
      "include_colab_link": true
    },
    "kernelspec": {
      "name": "python3",
      "display_name": "Python 3"
    }
  },
  "cells": [
    {
      "cell_type": "markdown",
      "metadata": {
        "id": "view-in-github",
        "colab_type": "text"
      },
      "source": [
        "<a href=\"https://colab.research.google.com/github/Abinaya-J/Udacity_SQL_for_Data_Analysis/blob/master/Quiz.ipynb\" target=\"_parent\"><img src=\"https://colab.research.google.com/assets/colab-badge.svg\" alt=\"Open In Colab\"/></a>"
      ]
    },
    {
      "cell_type": "code",
      "metadata": {
        "id": "CFY6oXut8Ahv",
        "colab_type": "code",
        "colab": {}
      },
      "source": [
        "#Aggregation Questions\n",
        "#Find the total amount of poster_qty paper ordered in the orders table.\n",
        "SELECT SUM(poster_qty) AS total_poster_ordered\n",
        "FROM orders;\n",
        "\n",
        "#Find the total dollar amount of sales using the total_amt_usd in the orders table.\n",
        "SELECT SUM(total_amt_usd) AS total_usd_earned\n",
        "FROM orders;\n",
        "\n",
        "#Find the total amount spent on standard_amt_usd and gloss_amt_usd paper for each order in the orders table. \n",
        "#This should give a dollar amount for each order in the table.\n",
        "SELECT standard_amt_usd + gloss_amt_usd AS total_standard_gloss\n",
        "FROM orders;\n",
        "\n",
        "#Find the standard_amt_usd per unit of standard_qty paper. Your solution should use both an aggregation and a mathematical operator.\n",
        "SELECT SUM(standard_amt_usd)/SUM(standard_qty) AS standard_price_per_unit\n",
        "FROM orders;"
      ],
      "execution_count": null,
      "outputs": []
    }
  ]
}