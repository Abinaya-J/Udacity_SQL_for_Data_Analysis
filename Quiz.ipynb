{
  "nbformat": 4,
  "nbformat_minor": 0,
  "metadata": {
    "colab": {
      "name": "Quiz.ipynb",
      "provenance": []
    },
    "kernelspec": {
      "name": "python3",
      "display_name": "Python 3"
    }
  },
  "cells": [
    {
      "cell_type": "code",
      "metadata": {
        "id": "Kf1E9aN0Qotu",
        "colab_type": "code",
        "colab": {}
      },
      "source": [
        "#Let's get some practice using ORDER BY:\n",
        "\n",
        "#Write a query to return the 10 earliest orders in the orders table. Include the id, occurred_at, and total_amt_usd.\n",
        "SELECT id,occurred_at,total_amt_usd\n",
        "FROM orders\n",
        "ORDER BY occurred_at\n",
        "LIMIT 10;\n",
        "\n",
        "#Write a query to return the top 5 orders in terms of largest total_amt_usd. Include the id, account_id, and total_amt_usd.\n",
        "SELECT id,account_id,total_amt_usd\n",
        "FROM orders\n",
        "ORDER BY total_amt_usd DESC\n",
        "LIMIT 5;\n",
        "\n",
        "#Write a query to return the lowest 20 orders in terms of smallest total_amt_usd. Include the id, account_id, and total_amt_usd.\n",
        "SELECT id,account_id,total_amt_usd\n",
        "FROM orders\n",
        "ORDER BY total_amt_usd \n",
        "LIMIT 20;"
      ],
      "execution_count": null,
      "outputs": []
    }
  ]
}