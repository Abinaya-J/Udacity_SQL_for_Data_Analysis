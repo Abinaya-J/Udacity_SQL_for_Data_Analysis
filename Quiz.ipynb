{
  "nbformat": 4,
  "nbformat_minor": 0,
  "metadata": {
    "colab": {
      "name": "Quiz.ipynb",
      "provenance": [],
      "authorship_tag": "ABX9TyMvsW3++pHzAbKgTqIeH5MQ",
      "include_colab_link": true
    },
    "kernelspec": {
      "name": "python3",
      "display_name": "Python 3"
    }
  },
  "cells": [
    {
      "cell_type": "markdown",
      "metadata": {
        "id": "view-in-github",
        "colab_type": "text"
      },
      "source": [
        "<a href=\"https://colab.research.google.com/github/Abinaya-J/Udacity_SQL_for_Data_Analysis/blob/master/Quiz.ipynb\" target=\"_parent\"><img src=\"https://colab.research.google.com/assets/colab-badge.svg\" alt=\"Open In Colab\"/></a>"
      ]
    },
    {
      "cell_type": "code",
      "metadata": {
        "id": "8xlhbrjv8LDH",
        "colab_type": "code",
        "colab": {}
      },
      "source": [
        "#SELECT and FROM in Every SQL Query\n",
        "#Every query will have at least a SELECT and FROM statement. The SELECT statement is where you put the columns for which you would like to show the data. \n",
        "#The FROM statement is where you put the tables from which you would like to pull data.\n",
        "\n",
        "#Your Turn\n",
        "#Try writing your own query to select only the id, account_id, and occurred_at columns for all orders in the orders table.\n",
        "SELECT id,account_id,occurred_at\n",
        "FROM orders;\n",
        "\n",
        "#Try using LIMIT yourself below by writing a query that displays all the data in the occurred_at, account_id,\n",
        "#and channel columns of the web_events table, and limits the output to only the first 15 rows.\n",
        "SELECT occurred_at,account_id,channel\n",
        "FROM web_events\n",
        "LIMIT 15;"
      ],
      "execution_count": null,
      "outputs": []
    },
    {
      "cell_type": "code",
      "metadata": {
        "id": "b3ZxErdaE0Wn",
        "colab_type": "code",
        "colab": {}
      },
      "source": [
        "#Let's get some practice using ORDER BY:\n",
        "\n",
        "#Write a query to return the 10 earliest orders in the orders table. Include the id, occurred_at, and total_amt_usd.\n",
        "SELECT id,occurred_at,total_amt_usd\n",
        "FROM orders\n",
        "ORDER BY occurred_at\n",
        "LIMIT 10;\n",
        "\n",
        "#Write a query to return the top 5 orders in terms of largest total_amt_usd. Include the id, account_id, and total_amt_usd.\n",
        "SELECT id,account_id,total_amt_usd\n",
        "FROM orders\n",
        "ORDER BY total_amt_usd DESC\n",
        "LIMIT 5;\n",
        "\n",
        "#Write a query to return the lowest 20 orders in terms of smallest total_amt_usd. Include the id, account_id, and total_amt_usd.\n",
        "SELECT id,account_id,total_amt_usd\n",
        "FROM orders\n",
        "ORDER BY total_amt_usd \n",
        "LIMIT 20;"
      ],
      "execution_count": null,
      "outputs": []
    },
    {
      "cell_type": "code",
      "metadata": {
        "id": "5E1XF73favrQ",
        "colab_type": "code",
        "colab": {}
      },
      "source": [
        "#Order by Part 2\n",
        "#Write a query that displays the order ID, account ID, and total dollar amount for all the orders, sorted first by the account ID (in ascending order), \n",
        "#and then by the total dollar amount (in descending order).\n",
        "SELECT id,account_id,total_amt_usd\n",
        "FROM orders\n",
        "ORDER BY account_id,total_amt_usd DESC\n",
        "\n",
        "#Now write a query that again displays order ID, account ID, and total dollar amount for each order, but this time sorted first by total dollar amount\n",
        "#(in descending order), and then by account ID (in ascending order).\n",
        "SELECT id, account_id, total_amt_usd\n",
        "FROM orders\n",
        "ORDER BY total_amt_usd DESC, account_id;"
      ],
      "execution_count": null,
      "outputs": []
    },
    {
      "cell_type": "code",
      "metadata": {
        "id": "56BFBwRybafm",
        "colab_type": "code",
        "colab": {}
      },
      "source": [
        "#WHERE\n",
        "#Write a query that:\n",
        "\n",
        "#Pulls the first 5 rows and all columns from the orders table that have a dollar amount of gloss_amt_usd greater than or equal to 1000.\n",
        "SELECT *\n",
        "FROM orders\n",
        "WHERE gloss_amt_usd>=1000\n",
        "LIMIT 5;\n",
        "\n",
        "#Pulls the first 10 rows and all columns from the orders table that have a total_amt_usd less than 500.\n",
        "SELECT *\n",
        "FROM orders\n",
        "WHERE total_amt_usd<=500\n",
        "LIMIT 10;"
      ],
      "execution_count": null,
      "outputs": []
    },
    {
      "cell_type": "code",
      "metadata": {
        "id": "UMYYWUsobuU-",
        "colab_type": "code",
        "colab": {}
      },
      "source": [
        "#Practice Question Using WHERE with Non-Numeric Data\n",
        "#Filter the accounts table to include the company name, website, and the primary point of contact (primary_poc) \n",
        "#just for the Exxon Mobil company in the accounts table.\n",
        "SELECT name,website,primary_poc\n",
        "FROM accounts\n",
        "WHERE name = 'Exxon Mobil';"
      ],
      "execution_count": null,
      "outputs": []
    },
    {
      "cell_type": "code",
      "metadata": {
        "id": "pfIpWcc8bxle",
        "colab_type": "code",
        "colab": {}
      },
      "source": [
        "#Questions using Arithmetic Operations\n",
        "\n",
        "#Create a column that divides the standard_amt_usd by the standard_qty to find the unit price for standard paper for each order.\n",
        "#Limit the results to the first 10 orders, and include the id and account_id fields.\n",
        "SELECT id,account_id,(standard_amt_usd/standard_qty) AS standard_unit_price\n",
        "FROM orders\n",
        "LIMIT 10;\n",
        "\n",
        "#Write a query that finds the percentage of revenue that comes from poster paper for each order. You will need to use only the columns that end with _usd. (Try to do this without using the total column.) \n",
        "#Display the id and account_id fields also.\n",
        "SELECT id,account_id,(poster_amt_usd/(standard_amt_usd+gloss_amt_usd+poster_amt_usd))*100 AS poster_percentage_rev\n",
        "FROM orders\n",
        "LIMIT 10;"
      ],
      "execution_count": null,
      "outputs": []
    },
    {
      "cell_type": "code",
      "metadata": {
        "id": "5FPbuKXfb94f",
        "colab_type": "code",
        "colab": {}
      },
      "source": [
        "#Questions using the LIKE operator\n",
        "#Use the accounts table to find\n",
        "#All the companies whose names start with 'C'.\n",
        "SELECT *\n",
        "FROM accounts\n",
        "WHERE name LIKE 'C%'; \n",
        "\n",
        "#All companies whose names contain the string 'one' somewhere in the name.\n",
        "SELECT *\n",
        "FROM accounts\n",
        "WHERE name LIKE '%one%';\n",
        "\n",
        "#All companies whose names end with 's'.\n",
        "SELECT name\n",
        "FROM accounts\n",
        "WHERE name LIKE '%s';"
      ],
      "execution_count": null,
      "outputs": []
    },
    {
      "cell_type": "code",
      "metadata": {
        "id": "llrMJV4mcG6p",
        "colab_type": "code",
        "colab": {}
      },
      "source": [
        "#Questions using IN operator\n",
        "#Use the accounts table to find the account name, primary_poc, and sales_rep_id for Walmart, Target, and Nordstrom.\n",
        "SELECT name,primary_poc,sales_rep_id\n",
        "FROM accounts\n",
        "WHERE name IN ('Walmart','Target','Nordstrom');\n",
        "\n",
        "#Use the web_events table to find all information regarding individuals who were contacted via the channel of organic or adwords.\n",
        "SELECT *\n",
        "FROM web_events\n",
        "WHERE channel IN ('organic','adwords');"
      ],
      "execution_count": null,
      "outputs": []
    },
    {
      "cell_type": "code",
      "metadata": {
        "id": "S8SgNqpUcrju",
        "colab_type": "code",
        "colab": {}
      },
      "source": [
        "#Questions using the NOT operator\n",
        "#Use the accounts table to find the account name, primary poc, and sales rep id for all stores except Walmart, Target, and Nordstrom.\n",
        "SELECT name, primary_poc, sales_rep_id\n",
        "FROM accounts\n",
        "WHERE name NOT IN ('Walmart', 'Target', 'Nordstrom');\n",
        "\n",
        "#Use the web_events table to find all information regarding individuals who were contacted via any method except using organic or adwords methods\n",
        "SELECT *\n",
        "FROM web_events\n",
        "WHERE channel NOT IN ('organic','adwords');\n",
        "\n",
        "#Use the accounts table to find:\n",
        "#a)All the companies whose names do not start with 'C'.\n",
        "SELECT name\n",
        "FROM accounts\n",
        "WHERE name NOT LIKE 'C%';\n",
        "\n",
        "#b)All companies whose names do not contain the string 'one' somewhere in the name.\n",
        "SELECT name\n",
        "FROM accounts\n",
        "WHERE name NOT LIKE '%one%';\n",
        "\n",
        "#c)All companies whose names do not end with 's'\n",
        "SELECT name\n",
        "FROM accounts\n",
        "WHERE name NOT LIKE '%s';"
      ],
      "execution_count": null,
      "outputs": []
    },
    {
      "cell_type": "code",
      "metadata": {
        "id": "kpB9ej2UnGYe",
        "colab_type": "code",
        "colab": {}
      },
      "source": [
        "#Questions using AND and BETWEEN operators\n",
        "#Write a query that returns all the orders where the standard_qty is over 1000, the poster_qty is 0, and the gloss_qty is 0.\n",
        "SELECT*\n",
        "FROM orders\n",
        "WHERE standard_qty >1000 AND poster_qty=0 AND gloss_qty=0;\n",
        "\n",
        "#Using the accounts table, find all the companies whose names do not start with 'C' and end with 's'.\n",
        "SELECT*\n",
        "FROM accounts\n",
        "WHERE name NOT LIKE 'C%' AND name LIKE '%S';\n",
        "\n",
        "#Write a query that displays the order date and gloss_qty data for all orders where gloss_qty is between 24 and 29. \n",
        "SELECT occurred_at,gloss_qty\n",
        "FROM orders\n",
        "WHERE gloss_qty BETWEEN 24 AND 29;\n",
        "\n",
        "#Use the web_events table to find all information regarding individuals who were contacted via the organic or adwords channels, \n",
        "#and started their account at any point in 2016, sorted from newest to oldest.\n",
        "SELECT *\n",
        "FROM web_events\n",
        "WHERE channel IN ('organic', 'adwords') AND occurred_at BETWEEN '2016-01-01' AND '2017-01-01'\n",
        "ORDER BY occurred_at DESC;"
      ],
      "execution_count": null,
      "outputs": []
    },
    {
      "cell_type": "code",
      "metadata": {
        "id": "IaYCs1WynLeI",
        "colab_type": "code",
        "colab": {}
      },
      "source": [
        "\n",
        "#Questions using the OR operator\n",
        "#Find list of orders ids where either gloss_qty or poster_qty is greater than 4000. Only include the id field in the resulting table.\n",
        "SELECT id\n",
        "FROM orders\n",
        "WHERE gloss_qty >4000 OR poster_qty >4000; \n",
        "\n",
        "#Write a query that returns a list of orders where the standard_qty is zero and either the gloss_qty or poster_qty is over 1000.\n",
        "SELECT *\n",
        "FROM orders\n",
        "WHERE standard_qty =0 AND poster_qty >1000 OR gloss_qty>1000;\n",
        "\n",
        "#Find all the company names that start with a 'C' or 'W', and the primary contact contains 'ana' or 'Ana', but it doesn't contain 'eana'\n",
        "SELECT *\n",
        "FROM accounts\n",
        "WHERE (name LIKE 'C%' OR name LIKE 'W%') AND ((primary_poc LIKE '%ana%' OR primary_poc LIKE '%Ana%') AND primary_poc NOT LIKE '%eana%');"
      ],
      "execution_count": null,
      "outputs": []
    }
  ]
}