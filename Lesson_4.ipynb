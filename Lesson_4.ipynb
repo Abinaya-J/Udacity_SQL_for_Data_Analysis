{
  "nbformat": 4,
  "nbformat_minor": 0,
  "metadata": {
    "colab": {
      "name": "Lesson 4.ipynb",
      "provenance": [],
      "authorship_tag": "ABX9TyO+nIQTf8EKA7gnpfIgP/jH",
      "include_colab_link": true
    },
    "kernelspec": {
      "name": "python3",
      "display_name": "Python 3"
    }
  },
  "cells": [
    {
      "cell_type": "markdown",
      "metadata": {
        "id": "view-in-github",
        "colab_type": "text"
      },
      "source": [
        "<a href=\"https://colab.research.google.com/github/Abinaya-J/Udacity_SQL_for_Data_Analysis/blob/master/Lesson_4.ipynb\" target=\"_parent\"><img src=\"https://colab.research.google.com/assets/colab-badge.svg\" alt=\"Open In Colab\"/></a>"
      ]
    },
    {
      "cell_type": "code",
      "metadata": {
        "id": "a61hYKsVxA33",
        "colab_type": "code",
        "colab": {}
      },
      "source": [
        "#Subqueries\n",
        "#We want to find the average number of events for each day for each channel. The first table will provide us the number of events for each day and channel, \n",
        "#and then we will need to average these values together using a second query.\n",
        "SELECT channel,AVG(event_count) avg_event_count\n",
        "FROM (\n",
        "SELECT DATE_TRUNC('day',occurred_at) day_occured,channel,COUNT(*) event_count\n",
        "FROM web_events\n",
        "GROUP BY 1,2\n",
        ") sub\n",
        "GROUP BY 1"
      ],
      "execution_count": null,
      "outputs": []
    },
    {
      "cell_type": "code",
      "metadata": {
        "id": "yFOwsjO0xOmi",
        "colab_type": "code",
        "colab": {}
      },
      "source": [
        "#Pull the first month/year combo from the orders table\n",
        "#Find orders that took place in the same year/month combo and the average quantities of each type of paper\n",
        "SELECT AVG(standard_qty) avg_std, AVG(gloss_qty) avg_gls, AVG(poster_qty) avg_pst,SUM(total_amt_usd)\n",
        "FROM orders\n",
        "WHERE DATE_TRUNC('month',occurred_at)= \n",
        "     (SELECT DATE_TRUNC('month',MIN(occurred_at)) month_occured\n",
        "FROM orders)"
      ],
      "execution_count": null,
      "outputs": []
    },
    {
      "cell_type": "code",
      "metadata": {
        "id": "LZ1omMNcx4NR",
        "colab_type": "code",
        "colab": {}
      },
      "source": [
        "#More on Subqueries\n",
        "#Provide the name of the sales_rep in each region with the largest amount of total_amt_usd sales.\n",
        "SELECT sub3.rep_name,sub3.region_name,sub3.total_amt\n",
        "FROM(SELECT region_name,MAX(total_amt) total_max_amt\n",
        "     FROM(SELECT s.name rep_name, r.name region_name, SUM(o.total_amt_usd) total_amt\n",
        "          FROM sales_reps s\n",
        "          JOIN accounts a\n",
        "          ON a.sales_rep_id = s.id\n",
        "          JOIN orders o\n",
        "          ON o.account_id = a.id\n",
        "          JOIN region r\n",
        "          ON r.id = s.region_id\n",
        "          GROUP BY 1, 2) sub1                         \n",
        "          GROUP BY 1)\n",
        "JOIN(SELECT s.name rep_name, r.name region_name, SUM(o.total_amt_usd) total_amt\n",
        "     FROM sales_reps s\n",
        "     JOIN accounts a\n",
        "     ON a.sales_rep_id = s.id\n",
        "     JOIN orders o\n",
        "     ON o.account_id = a.id\n",
        "     JOIN region r\n",
        "     ON r.id = s.region_id\n",
        "     GROUP BY 1, 2\n",
        "     ORDER BY 3 DESC)sub3\n",
        "ON sub3.region_name = sub2.region_name AND sub3.total_amt = sub2.total_max_amt;\n",
        "\n",
        "#For the region with the largest (sum) of sales total_amt_usd, how many total (count) orders were placed?\n",
        "SELECT r.name,COUNT(o.total) total_orders\n",
        "FROM sales_reps s\n",
        "JOIN accounts a\n",
        "ON a.sales_rep_id = s.id\n",
        "JOIN orders o\n",
        "ON o.account_id = a.id\n",
        "JOIN region r\n",
        "ON r.id = s.region_id\n",
        "GROUP BY r.name\n",
        "HAVING SUM(o.total_amt_usd)=(SELECT MAX(total_amt)\n",
        "                            FROM(SELECT r.name region_name, SUM(o.total_amt_usd) total_amt\n",
        "                                FROM sales_reps s\n",
        "                                JOIN accounts a\n",
        "                                ON a.sales_rep_id = s.id\n",
        "                                JOIN orders o\n",
        "                                ON o.account_id = a.id\n",
        "                                JOIN region r\n",
        "                                ON r.id = s.region_id\n",
        "                                GROUP BY 1) );"
      ],
      "execution_count": null,
      "outputs": []
    }
  ]
}