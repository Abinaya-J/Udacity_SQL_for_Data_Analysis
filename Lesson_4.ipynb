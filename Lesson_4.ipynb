{
  "nbformat": 4,
  "nbformat_minor": 0,
  "metadata": {
    "colab": {
      "name": "Lesson 4.ipynb",
      "provenance": [],
      "authorship_tag": "ABX9TyOwf047DY634HQzYPN0LVCF",
      "include_colab_link": true
    },
    "kernelspec": {
      "name": "python3",
      "display_name": "Python 3"
    }
  },
  "cells": [
    {
      "cell_type": "markdown",
      "metadata": {
        "id": "view-in-github",
        "colab_type": "text"
      },
      "source": [
        "<a href=\"https://colab.research.google.com/github/Abinaya-J/Udacity_SQL_for_Data_Analysis/blob/master/Lesson_4.ipynb\" target=\"_parent\"><img src=\"https://colab.research.google.com/assets/colab-badge.svg\" alt=\"Open In Colab\"/></a>"
      ]
    },
    {
      "cell_type": "code",
      "metadata": {
        "id": "a61hYKsVxA33",
        "colab_type": "code",
        "colab": {}
      },
      "source": [
        "#Subqueries\n",
        "#We want to find the average number of events for each day for each channel. The first table will provide us the number of events for each day and channel, \n",
        "#and then we will need to average these values together using a second query.\n",
        "SELECT channel,AVG(event_count) avg_event_count\n",
        "FROM (\n",
        "SELECT DATE_TRUNC('day',occurred_at) day_occured,channel,COUNT(*) event_count\n",
        "FROM web_events\n",
        "GROUP BY 1,2\n",
        ") sub\n",
        "GROUP BY 1"
      ],
      "execution_count": null,
      "outputs": []
    },
    {
      "cell_type": "code",
      "metadata": {
        "id": "yFOwsjO0xOmi",
        "colab_type": "code",
        "colab": {}
      },
      "source": [
        "#Pull the first month/year combo from the orders table\n",
        "#Find orders that took place in the same year/month combo and the average quantities of each type of paper\n",
        "SELECT AVG(standard_qty) avg_std, AVG(gloss_qty) avg_gls, AVG(poster_qty) avg_pst,SUM(total_amt_usd)\n",
        "FROM orders\n",
        "WHERE DATE_TRUNC('month',occurred_at)= \n",
        "     (SELECT DATE_TRUNC('month',MIN(occurred_at)) month_occured\n",
        "FROM orders)"
      ],
      "execution_count": null,
      "outputs": []
    }
  ]
}